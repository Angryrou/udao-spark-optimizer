{
 "cells": [
  {
   "cell_type": "code",
   "id": "initial_id",
   "metadata": {
    "collapsed": true,
    "ExecuteTime": {
     "end_time": "2024-08-04T01:31:35.660470Z",
     "start_time": "2024-08-04T01:31:35.126712Z"
    }
   },
   "source": [
    "import numpy as np\n",
    "import pandas as pd"
   ],
   "outputs": [],
   "execution_count": 1
  },
  {
   "metadata": {
    "ExecuteTime": {
     "end_time": "2024-08-04T01:32:10.201201Z",
     "start_time": "2024-08-04T01:32:10.079896Z"
    }
   },
   "cell_type": "code",
   "source": "!pwd",
   "id": "678b83b3a5efdd17",
   "outputs": [
    {
     "name": "stdout",
     "output_type": "stream",
     "text": [
      "/Users/chenghao/ResearchHub/repos/udao-spark-optimizer/playground/assets/data_stats\r\n"
     ]
    }
   ],
   "execution_count": 3
  },
  {
   "metadata": {},
   "cell_type": "markdown",
   "source": "For TPCH",
   "id": "ad7b7f4c7ee6de78"
  },
  {
   "metadata": {
    "ExecuteTime": {
     "end_time": "2024-08-04T03:30:07.866722Z",
     "start_time": "2024-08-04T03:30:07.856557Z"
    }
   },
   "cell_type": "code",
   "source": [
    "# Load data\n",
    "bm = \"tpch\"\n",
    "df = pd.read_csv(f\"raw_{bm}_hist.csv\")\n",
    "df.head()"
   ],
   "id": "1d143c42f055c2a7",
   "outputs": [
    {
     "data": {
      "text/plain": [
       "      table       column   dtype  \\\n",
       "0  customer    c_custkey  bigint   \n",
       "1  customer       c_name  string   \n",
       "2  customer    c_address  string   \n",
       "3  customer  c_nationkey  bigint   \n",
       "4  customer      c_phone  string   \n",
       "\n",
       "                                                bins  distinct_count  \n",
       "0  [1.0, 58629.0, 117724.0, 176935.0, 235656.0, 2...        13828764  \n",
       "1                                                 []        15000000  \n",
       "2                                                 []        15000000  \n",
       "3  [0.0, 1.0, 2.0, 3.0, 4.0, 5.0, 6.0, 7.0, 8.0, ...              25  \n",
       "4                                                 []        15000000  "
      ],
      "text/html": [
       "<div>\n",
       "<style scoped>\n",
       "    .dataframe tbody tr th:only-of-type {\n",
       "        vertical-align: middle;\n",
       "    }\n",
       "\n",
       "    .dataframe tbody tr th {\n",
       "        vertical-align: top;\n",
       "    }\n",
       "\n",
       "    .dataframe thead th {\n",
       "        text-align: right;\n",
       "    }\n",
       "</style>\n",
       "<table border=\"1\" class=\"dataframe\">\n",
       "  <thead>\n",
       "    <tr style=\"text-align: right;\">\n",
       "      <th></th>\n",
       "      <th>table</th>\n",
       "      <th>column</th>\n",
       "      <th>dtype</th>\n",
       "      <th>bins</th>\n",
       "      <th>distinct_count</th>\n",
       "    </tr>\n",
       "  </thead>\n",
       "  <tbody>\n",
       "    <tr>\n",
       "      <th>0</th>\n",
       "      <td>customer</td>\n",
       "      <td>c_custkey</td>\n",
       "      <td>bigint</td>\n",
       "      <td>[1.0, 58629.0, 117724.0, 176935.0, 235656.0, 2...</td>\n",
       "      <td>13828764</td>\n",
       "    </tr>\n",
       "    <tr>\n",
       "      <th>1</th>\n",
       "      <td>customer</td>\n",
       "      <td>c_name</td>\n",
       "      <td>string</td>\n",
       "      <td>[]</td>\n",
       "      <td>15000000</td>\n",
       "    </tr>\n",
       "    <tr>\n",
       "      <th>2</th>\n",
       "      <td>customer</td>\n",
       "      <td>c_address</td>\n",
       "      <td>string</td>\n",
       "      <td>[]</td>\n",
       "      <td>15000000</td>\n",
       "    </tr>\n",
       "    <tr>\n",
       "      <th>3</th>\n",
       "      <td>customer</td>\n",
       "      <td>c_nationkey</td>\n",
       "      <td>bigint</td>\n",
       "      <td>[0.0, 1.0, 2.0, 3.0, 4.0, 5.0, 6.0, 7.0, 8.0, ...</td>\n",
       "      <td>25</td>\n",
       "    </tr>\n",
       "    <tr>\n",
       "      <th>4</th>\n",
       "      <td>customer</td>\n",
       "      <td>c_phone</td>\n",
       "      <td>string</td>\n",
       "      <td>[]</td>\n",
       "      <td>15000000</td>\n",
       "    </tr>\n",
       "  </tbody>\n",
       "</table>\n",
       "</div>"
      ]
     },
     "execution_count": 61,
     "metadata": {},
     "output_type": "execute_result"
    }
   ],
   "execution_count": 61
  },
  {
   "metadata": {
    "ExecuteTime": {
     "end_time": "2024-08-04T03:30:10.281817Z",
     "start_time": "2024-08-04T03:30:10.275571Z"
    }
   },
   "cell_type": "code",
   "source": [
    "def regroup(original_bounds, n=50):\n",
    "    \"\"\"\n",
    "    Transform an n-sized equi-height histogram into a 50-bin equi-height histogram by interpolating within each bin,\n",
    "    assuming each bin has an equal number of data points.\n",
    "    \n",
    "    Args:\n",
    "    original_bounds (list): The boundaries of the original histogram bins.\n",
    "    N (int): The desired number of bins in the new histogram (50 by default).\n",
    "    \n",
    "    Returns:\n",
    "    tuple: Tuple containing the new bin boundaries.\n",
    "    \"\"\"\n",
    "    # Determine the number of original bins\n",
    "    m = len(original_bounds) - 1\n",
    "    rate = n / m\n",
    "    new_bounds = [0] * (n + 1)\n",
    "    new_bounds[0] = original_bounds[0]\n",
    "    j = 0 # original bin index\n",
    "    for i in range(1, n):\n",
    "        while (j + 1) * rate < i:\n",
    "            j += 1\n",
    "        offset = i - j * rate\n",
    "        # print(f\"i: {i}, j: {j}, offset: {offset}\")\n",
    "        new_bounds[i] = original_bounds[j] + offset / rate * (original_bounds[j + 1] - original_bounds[j])\n",
    "    new_bounds[n] = original_bounds[-1]\n",
    "    return new_bounds\n",
    "\n",
    "\n",
    "# Example usage\n",
    "original_bounds = [1, 3, 4, 5, 6, 8]\n",
    "new_bounds = regroup(original_bounds, n = 10)\n",
    "print(\"New Bounds:\", new_bounds)\n",
    "new_bounds = regroup(original_bounds, n = 2)\n",
    "print(\"New Bounds:\", new_bounds)\n",
    "new_bounds = regroup(original_bounds, n = 3)\n",
    "print(\"New Bounds:\", new_bounds)\n"
   ],
   "id": "6a7bcf0a43972e50",
   "outputs": [
    {
     "name": "stdout",
     "output_type": "stream",
     "text": [
      "New Bounds: [1, 2.0, 3.0, 3.5, 4.0, 4.5, 5.0, 5.5, 6.0, 7.0, 8]\n",
      "New Bounds: [1, 4.5, 8]\n",
      "New Bounds: [1, 3.666666666666667, 5.333333333333334, 8]\n"
     ]
    }
   ],
   "execution_count": 62
  },
  {
   "metadata": {
    "ExecuteTime": {
     "end_time": "2024-08-04T03:30:16.274657Z",
     "start_time": "2024-08-04T03:30:16.230437Z"
    }
   },
   "cell_type": "code",
   "source": [
    "from datetime import datetime\n",
    "\n",
    "def days_since_epoch(date_str):\n",
    "    \"\"\"\n",
    "    Calculate the number of days from January 1, 1970, to the given date.\n",
    "    \n",
    "    Args:\n",
    "    date_str (str): Date in \"yyyy-mm-dd\" format.\n",
    "    \n",
    "    Returns:\n",
    "    int: Number of days between 1970-01-01 and the given date.\n",
    "    \"\"\"\n",
    "    epoch_start = datetime(1970, 1, 1)\n",
    "    given_date = datetime.strptime(date_str, '%Y-%m-%d')\n",
    "    \n",
    "    # Calculate the difference in days\n",
    "    delta = given_date - epoch_start\n",
    "    return delta.days\n",
    "\n",
    "def regroup_to_50(dtype, bins_str, distinct_count):\n",
    "    if distinct_count == 1 or bins_str == \"[]\":\n",
    "        return [0.0] * 51\n",
    "    if dtype == \"date\":\n",
    "        bins = list(map(days_since_epoch, bins_str[1:-1].split(\", \")))\n",
    "    else:\n",
    "        bins = list(map(float, bins_str[1:-1].split(\", \")))\n",
    "    \n",
    "    if distinct_count < 50:\n",
    "        ret_bins = bins \n",
    "        while len(ret_bins) < 50:\n",
    "            ret_bins += bins\n",
    "        ret_bins = sorted(ret_bins[:50])\n",
    "        return ret_bins\n",
    "        \n",
    "    return regroup(bins, n=50)\n",
    "\n",
    "# Regroup data\n",
    "df[\"hists\"] = df[[\"dtype\", \"bins\", \"distinct_count\"]].apply(lambda x: regroup_to_50(x[\"dtype\"], x[\"bins\"], x[\"distinct_count\"]), axis=1)\n",
    "df.head()"
   ],
   "id": "1f13bdc5b7bbff8d",
   "outputs": [
    {
     "data": {
      "text/plain": [
       "      table       column   dtype  \\\n",
       "0  customer    c_custkey  bigint   \n",
       "1  customer       c_name  string   \n",
       "2  customer    c_address  string   \n",
       "3  customer  c_nationkey  bigint   \n",
       "4  customer      c_phone  string   \n",
       "\n",
       "                                                bins  distinct_count  \\\n",
       "0  [1.0, 58629.0, 117724.0, 176935.0, 235656.0, 2...        13828764   \n",
       "1                                                 []        15000000   \n",
       "2                                                 []        15000000   \n",
       "3  [0.0, 1.0, 2.0, 3.0, 4.0, 5.0, 6.0, 7.0, 8.0, ...              25   \n",
       "4                                                 []        15000000   \n",
       "\n",
       "                                               hists  \n",
       "0  [1.0, 299788.16, 599683.48, 899274.1599999999,...  \n",
       "1  [0.0, 0.0, 0.0, 0.0, 0.0, 0.0, 0.0, 0.0, 0.0, ...  \n",
       "2  [0.0, 0.0, 0.0, 0.0, 0.0, 0.0, 0.0, 0.0, 0.0, ...  \n",
       "3  [0.0, 0.0, 1.0, 1.0, 2.0, 2.0, 3.0, 3.0, 4.0, ...  \n",
       "4  [0.0, 0.0, 0.0, 0.0, 0.0, 0.0, 0.0, 0.0, 0.0, ...  "
      ],
      "text/html": [
       "<div>\n",
       "<style scoped>\n",
       "    .dataframe tbody tr th:only-of-type {\n",
       "        vertical-align: middle;\n",
       "    }\n",
       "\n",
       "    .dataframe tbody tr th {\n",
       "        vertical-align: top;\n",
       "    }\n",
       "\n",
       "    .dataframe thead th {\n",
       "        text-align: right;\n",
       "    }\n",
       "</style>\n",
       "<table border=\"1\" class=\"dataframe\">\n",
       "  <thead>\n",
       "    <tr style=\"text-align: right;\">\n",
       "      <th></th>\n",
       "      <th>table</th>\n",
       "      <th>column</th>\n",
       "      <th>dtype</th>\n",
       "      <th>bins</th>\n",
       "      <th>distinct_count</th>\n",
       "      <th>hists</th>\n",
       "    </tr>\n",
       "  </thead>\n",
       "  <tbody>\n",
       "    <tr>\n",
       "      <th>0</th>\n",
       "      <td>customer</td>\n",
       "      <td>c_custkey</td>\n",
       "      <td>bigint</td>\n",
       "      <td>[1.0, 58629.0, 117724.0, 176935.0, 235656.0, 2...</td>\n",
       "      <td>13828764</td>\n",
       "      <td>[1.0, 299788.16, 599683.48, 899274.1599999999,...</td>\n",
       "    </tr>\n",
       "    <tr>\n",
       "      <th>1</th>\n",
       "      <td>customer</td>\n",
       "      <td>c_name</td>\n",
       "      <td>string</td>\n",
       "      <td>[]</td>\n",
       "      <td>15000000</td>\n",
       "      <td>[0.0, 0.0, 0.0, 0.0, 0.0, 0.0, 0.0, 0.0, 0.0, ...</td>\n",
       "    </tr>\n",
       "    <tr>\n",
       "      <th>2</th>\n",
       "      <td>customer</td>\n",
       "      <td>c_address</td>\n",
       "      <td>string</td>\n",
       "      <td>[]</td>\n",
       "      <td>15000000</td>\n",
       "      <td>[0.0, 0.0, 0.0, 0.0, 0.0, 0.0, 0.0, 0.0, 0.0, ...</td>\n",
       "    </tr>\n",
       "    <tr>\n",
       "      <th>3</th>\n",
       "      <td>customer</td>\n",
       "      <td>c_nationkey</td>\n",
       "      <td>bigint</td>\n",
       "      <td>[0.0, 1.0, 2.0, 3.0, 4.0, 5.0, 6.0, 7.0, 8.0, ...</td>\n",
       "      <td>25</td>\n",
       "      <td>[0.0, 0.0, 1.0, 1.0, 2.0, 2.0, 3.0, 3.0, 4.0, ...</td>\n",
       "    </tr>\n",
       "    <tr>\n",
       "      <th>4</th>\n",
       "      <td>customer</td>\n",
       "      <td>c_phone</td>\n",
       "      <td>string</td>\n",
       "      <td>[]</td>\n",
       "      <td>15000000</td>\n",
       "      <td>[0.0, 0.0, 0.0, 0.0, 0.0, 0.0, 0.0, 0.0, 0.0, ...</td>\n",
       "    </tr>\n",
       "  </tbody>\n",
       "</table>\n",
       "</div>"
      ]
     },
     "execution_count": 63,
     "metadata": {},
     "output_type": "execute_result"
    }
   ],
   "execution_count": 63
  },
  {
   "metadata": {
    "ExecuteTime": {
     "end_time": "2024-08-04T03:30:40.252878Z",
     "start_time": "2024-08-04T03:30:40.244693Z"
    }
   },
   "cell_type": "code",
   "source": "df.to_csv(f\"regrouped_{bm}_hist.csv\", index=False)",
   "id": "f153866c0d57fe56",
   "outputs": [],
   "execution_count": 64
  },
  {
   "metadata": {},
   "cell_type": "markdown",
   "source": "For TPCDS",
   "id": "48c518e1a1f16dcb"
  },
  {
   "metadata": {
    "ExecuteTime": {
     "end_time": "2024-08-04T03:32:25.099827Z",
     "start_time": "2024-08-04T03:32:25.055768Z"
    }
   },
   "cell_type": "code",
   "source": [
    "# Load data\n",
    "bm = \"tpcds\"\n",
    "df = pd.read_csv(f\"raw_{bm}_hist.csv\")\n",
    "# Regroup data\n",
    "df[\"hists\"] = df[[\"dtype\", \"bins\", \"distinct_count\"]].apply(lambda x: regroup_to_50(x[\"dtype\"], x[\"bins\"], x[\"distinct_count\"]), axis=1)\n",
    "df.to_csv(f\"regrouped_{bm}_hist.csv\", index=False)\n"
   ],
   "id": "12deff7f187aa1d0",
   "outputs": [],
   "execution_count": 65
  },
  {
   "metadata": {},
   "cell_type": "code",
   "outputs": [],
   "execution_count": null,
   "source": "",
   "id": "e4c29ba74f66f35a"
  }
 ],
 "metadata": {
  "kernelspec": {
   "display_name": "Python 3",
   "language": "python",
   "name": "python3"
  },
  "language_info": {
   "codemirror_mode": {
    "name": "ipython",
    "version": 2
   },
   "file_extension": ".py",
   "mimetype": "text/x-python",
   "name": "python",
   "nbconvert_exporter": "python",
   "pygments_lexer": "ipython2",
   "version": "2.7.6"
  }
 },
 "nbformat": 4,
 "nbformat_minor": 5
}
