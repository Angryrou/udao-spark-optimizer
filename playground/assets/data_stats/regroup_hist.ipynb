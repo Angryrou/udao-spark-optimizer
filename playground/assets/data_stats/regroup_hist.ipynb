{
 "cells": [
  {
   "cell_type": "code",
   "id": "initial_id",
   "metadata": {
    "collapsed": true,
    "ExecuteTime": {
     "end_time": "2024-08-04T01:31:35.660470Z",
     "start_time": "2024-08-04T01:31:35.126712Z"
    }
   },
   "source": [
    "import numpy as np\n",
    "import pandas as pd"
   ],
   "outputs": [],
   "execution_count": 1
  },
  {
   "metadata": {
    "ExecuteTime": {
     "end_time": "2024-08-04T01:32:10.201201Z",
     "start_time": "2024-08-04T01:32:10.079896Z"
    }
   },
   "cell_type": "code",
   "source": "!pwd",
   "id": "678b83b3a5efdd17",
   "outputs": [
    {
     "name": "stdout",
     "output_type": "stream",
     "text": [
      "/Users/chenghao/ResearchHub/repos/udao-spark-optimizer/playground/assets/data_stats\r\n"
     ]
    }
   ],
   "execution_count": 3
  },
  {
   "metadata": {},
   "cell_type": "markdown",
   "source": "For TPCH",
   "id": "ad7b7f4c7ee6de78"
  },
  {
   "metadata": {
    "ExecuteTime": {
     "end_time": "2024-08-04T22:34:25.169781Z",
     "start_time": "2024-08-04T22:34:25.118934Z"
    }
   },
   "cell_type": "code",
   "source": [
    "# Load data\n",
    "bm = \"tpch\"\n",
    "df = pd.read_csv(f\"raw_{bm}_hist.csv\")\n",
    "df.head()"
   ],
   "id": "1d143c42f055c2a7",
   "outputs": [
    {
     "data": {
      "text/plain": [
       "      table       column   dtype  \\\n",
       "0  customer    c_custkey  bigint   \n",
       "1  customer       c_name  string   \n",
       "2  customer    c_address  string   \n",
       "3  customer  c_nationkey  bigint   \n",
       "4  customer      c_phone  string   \n",
       "\n",
       "                                                bins  distinct_count  \n",
       "0  [1.0, 58629.0, 117724.0, 176935.0, 235656.0, 2...        13828764  \n",
       "1                                                 []        15000000  \n",
       "2                                                 []        15000000  \n",
       "3  [0.0, 1.0, 2.0, 3.0, 4.0, 5.0, 6.0, 7.0, 8.0, ...              25  \n",
       "4                                                 []        15000000  "
      ],
      "text/html": [
       "<div>\n",
       "<style scoped>\n",
       "    .dataframe tbody tr th:only-of-type {\n",
       "        vertical-align: middle;\n",
       "    }\n",
       "\n",
       "    .dataframe tbody tr th {\n",
       "        vertical-align: top;\n",
       "    }\n",
       "\n",
       "    .dataframe thead th {\n",
       "        text-align: right;\n",
       "    }\n",
       "</style>\n",
       "<table border=\"1\" class=\"dataframe\">\n",
       "  <thead>\n",
       "    <tr style=\"text-align: right;\">\n",
       "      <th></th>\n",
       "      <th>table</th>\n",
       "      <th>column</th>\n",
       "      <th>dtype</th>\n",
       "      <th>bins</th>\n",
       "      <th>distinct_count</th>\n",
       "    </tr>\n",
       "  </thead>\n",
       "  <tbody>\n",
       "    <tr>\n",
       "      <th>0</th>\n",
       "      <td>customer</td>\n",
       "      <td>c_custkey</td>\n",
       "      <td>bigint</td>\n",
       "      <td>[1.0, 58629.0, 117724.0, 176935.0, 235656.0, 2...</td>\n",
       "      <td>13828764</td>\n",
       "    </tr>\n",
       "    <tr>\n",
       "      <th>1</th>\n",
       "      <td>customer</td>\n",
       "      <td>c_name</td>\n",
       "      <td>string</td>\n",
       "      <td>[]</td>\n",
       "      <td>15000000</td>\n",
       "    </tr>\n",
       "    <tr>\n",
       "      <th>2</th>\n",
       "      <td>customer</td>\n",
       "      <td>c_address</td>\n",
       "      <td>string</td>\n",
       "      <td>[]</td>\n",
       "      <td>15000000</td>\n",
       "    </tr>\n",
       "    <tr>\n",
       "      <th>3</th>\n",
       "      <td>customer</td>\n",
       "      <td>c_nationkey</td>\n",
       "      <td>bigint</td>\n",
       "      <td>[0.0, 1.0, 2.0, 3.0, 4.0, 5.0, 6.0, 7.0, 8.0, ...</td>\n",
       "      <td>25</td>\n",
       "    </tr>\n",
       "    <tr>\n",
       "      <th>4</th>\n",
       "      <td>customer</td>\n",
       "      <td>c_phone</td>\n",
       "      <td>string</td>\n",
       "      <td>[]</td>\n",
       "      <td>15000000</td>\n",
       "    </tr>\n",
       "  </tbody>\n",
       "</table>\n",
       "</div>"
      ]
     },
     "execution_count": 78,
     "metadata": {},
     "output_type": "execute_result"
    }
   ],
   "execution_count": 78
  },
  {
   "metadata": {
    "ExecuteTime": {
     "end_time": "2024-08-04T22:34:25.912399Z",
     "start_time": "2024-08-04T22:34:25.908523Z"
    }
   },
   "cell_type": "code",
   "source": [
    "def regroup(original_bounds, n=50):\n",
    "    \"\"\"\n",
    "    Transform an n-sized equi-height histogram into a 50-bin equi-height histogram by interpolating within each bin,\n",
    "    assuming each bin has an equal number of data points.\n",
    "    \n",
    "    Args:\n",
    "    original_bounds (list): The boundaries of the original histogram bins.\n",
    "    N (int): The desired number of bins in the new histogram (50 by default).\n",
    "    \n",
    "    Returns:\n",
    "    tuple: Tuple containing the new bin boundaries.\n",
    "    \"\"\"\n",
    "    # Determine the number of original bins\n",
    "    m = len(original_bounds) - 1\n",
    "    rate = n / m\n",
    "    new_bounds = [0] * (n + 1)\n",
    "    new_bounds[0] = original_bounds[0]\n",
    "    j = 0 # original bin index\n",
    "    for i in range(1, n):\n",
    "        while (j + 1) * rate < i:\n",
    "            j += 1\n",
    "        offset = i - j * rate\n",
    "        # print(f\"i: {i}, j: {j}, offset: {offset}\")\n",
    "        new_bounds[i] = original_bounds[j] + offset / rate * (original_bounds[j + 1] - original_bounds[j])\n",
    "    new_bounds[n] = original_bounds[-1]\n",
    "    return new_bounds\n",
    "\n",
    "\n",
    "# Example usage\n",
    "original_bounds = [1, 3, 4, 5, 6, 8]\n",
    "new_bounds = regroup(original_bounds, n = 10)\n",
    "print(\"New Bounds:\", new_bounds)\n",
    "new_bounds = regroup(original_bounds, n = 2)\n",
    "print(\"New Bounds:\", new_bounds)\n",
    "new_bounds = regroup(original_bounds, n = 3)\n",
    "print(\"New Bounds:\", new_bounds)\n"
   ],
   "id": "6a7bcf0a43972e50",
   "outputs": [
    {
     "name": "stdout",
     "output_type": "stream",
     "text": [
      "New Bounds: [1, 2.0, 3.0, 3.5, 4.0, 4.5, 5.0, 5.5, 6.0, 7.0, 8]\n",
      "New Bounds: [1, 4.5, 8]\n",
      "New Bounds: [1, 3.666666666666667, 5.333333333333334, 8]\n"
     ]
    }
   ],
   "execution_count": 79
  },
  {
   "metadata": {
    "ExecuteTime": {
     "end_time": "2024-08-04T22:34:26.734706Z",
     "start_time": "2024-08-04T22:34:26.714960Z"
    }
   },
   "cell_type": "code",
   "source": [
    "from datetime import datetime\n",
    "\n",
    "def days_since_epoch(date_str):\n",
    "    \"\"\"\n",
    "    Calculate the number of days from January 1, 1970, to the given date.\n",
    "    \n",
    "    Args:\n",
    "    date_str (str): Date in \"yyyy-mm-dd\" format.\n",
    "    \n",
    "    Returns:\n",
    "    int: Number of days between 1970-01-01 and the given date.\n",
    "    \"\"\"\n",
    "    epoch_start = datetime(1970, 1, 1)\n",
    "    given_date = datetime.strptime(date_str, '%Y-%m-%d')\n",
    "    \n",
    "    # Calculate the difference in days\n",
    "    delta = given_date - epoch_start\n",
    "    return delta.days\n",
    "\n",
    "def regroup_to_50(dtype, bins_str, distinct_count):\n",
    "    if distinct_count == 1 or bins_str == \"[]\":\n",
    "        return [0.0] * 51\n",
    "    if dtype == \"date\":\n",
    "        bins = list(map(days_since_epoch, bins_str[1:-1].split(\", \")))\n",
    "    else:\n",
    "        bins = list(map(float, bins_str[1:-1].split(\", \")))\n",
    "    \n",
    "    if distinct_count < 50:\n",
    "        ret_bins = bins \n",
    "        while len(ret_bins) < 50:\n",
    "            ret_bins += bins\n",
    "        ret_bins = sorted(ret_bins[:51])\n",
    "        return ret_bins\n",
    "        \n",
    "    return regroup(bins, n=50)\n",
    "\n",
    "# Regroup data\n",
    "df[\"hists\"] = df[[\"dtype\", \"bins\", \"distinct_count\"]].apply(lambda x: regroup_to_50(x[\"dtype\"], x[\"bins\"], x[\"distinct_count\"]), axis=1)\n",
    "df.head()"
   ],
   "id": "1f13bdc5b7bbff8d",
   "outputs": [
    {
     "data": {
      "text/plain": [
       "      table       column   dtype  \\\n",
       "0  customer    c_custkey  bigint   \n",
       "1  customer       c_name  string   \n",
       "2  customer    c_address  string   \n",
       "3  customer  c_nationkey  bigint   \n",
       "4  customer      c_phone  string   \n",
       "\n",
       "                                                bins  distinct_count  \\\n",
       "0  [1.0, 58629.0, 117724.0, 176935.0, 235656.0, 2...        13828764   \n",
       "1                                                 []        15000000   \n",
       "2                                                 []        15000000   \n",
       "3  [0.0, 1.0, 2.0, 3.0, 4.0, 5.0, 6.0, 7.0, 8.0, ...              25   \n",
       "4                                                 []        15000000   \n",
       "\n",
       "                                               hists  \n",
       "0  [1.0, 299788.16, 599683.48, 899274.1599999999,...  \n",
       "1  [0.0, 0.0, 0.0, 0.0, 0.0, 0.0, 0.0, 0.0, 0.0, ...  \n",
       "2  [0.0, 0.0, 0.0, 0.0, 0.0, 0.0, 0.0, 0.0, 0.0, ...  \n",
       "3  [0.0, 0.0, 1.0, 1.0, 2.0, 2.0, 3.0, 3.0, 4.0, ...  \n",
       "4  [0.0, 0.0, 0.0, 0.0, 0.0, 0.0, 0.0, 0.0, 0.0, ...  "
      ],
      "text/html": [
       "<div>\n",
       "<style scoped>\n",
       "    .dataframe tbody tr th:only-of-type {\n",
       "        vertical-align: middle;\n",
       "    }\n",
       "\n",
       "    .dataframe tbody tr th {\n",
       "        vertical-align: top;\n",
       "    }\n",
       "\n",
       "    .dataframe thead th {\n",
       "        text-align: right;\n",
       "    }\n",
       "</style>\n",
       "<table border=\"1\" class=\"dataframe\">\n",
       "  <thead>\n",
       "    <tr style=\"text-align: right;\">\n",
       "      <th></th>\n",
       "      <th>table</th>\n",
       "      <th>column</th>\n",
       "      <th>dtype</th>\n",
       "      <th>bins</th>\n",
       "      <th>distinct_count</th>\n",
       "      <th>hists</th>\n",
       "    </tr>\n",
       "  </thead>\n",
       "  <tbody>\n",
       "    <tr>\n",
       "      <th>0</th>\n",
       "      <td>customer</td>\n",
       "      <td>c_custkey</td>\n",
       "      <td>bigint</td>\n",
       "      <td>[1.0, 58629.0, 117724.0, 176935.0, 235656.0, 2...</td>\n",
       "      <td>13828764</td>\n",
       "      <td>[1.0, 299788.16, 599683.48, 899274.1599999999,...</td>\n",
       "    </tr>\n",
       "    <tr>\n",
       "      <th>1</th>\n",
       "      <td>customer</td>\n",
       "      <td>c_name</td>\n",
       "      <td>string</td>\n",
       "      <td>[]</td>\n",
       "      <td>15000000</td>\n",
       "      <td>[0.0, 0.0, 0.0, 0.0, 0.0, 0.0, 0.0, 0.0, 0.0, ...</td>\n",
       "    </tr>\n",
       "    <tr>\n",
       "      <th>2</th>\n",
       "      <td>customer</td>\n",
       "      <td>c_address</td>\n",
       "      <td>string</td>\n",
       "      <td>[]</td>\n",
       "      <td>15000000</td>\n",
       "      <td>[0.0, 0.0, 0.0, 0.0, 0.0, 0.0, 0.0, 0.0, 0.0, ...</td>\n",
       "    </tr>\n",
       "    <tr>\n",
       "      <th>3</th>\n",
       "      <td>customer</td>\n",
       "      <td>c_nationkey</td>\n",
       "      <td>bigint</td>\n",
       "      <td>[0.0, 1.0, 2.0, 3.0, 4.0, 5.0, 6.0, 7.0, 8.0, ...</td>\n",
       "      <td>25</td>\n",
       "      <td>[0.0, 0.0, 1.0, 1.0, 2.0, 2.0, 3.0, 3.0, 4.0, ...</td>\n",
       "    </tr>\n",
       "    <tr>\n",
       "      <th>4</th>\n",
       "      <td>customer</td>\n",
       "      <td>c_phone</td>\n",
       "      <td>string</td>\n",
       "      <td>[]</td>\n",
       "      <td>15000000</td>\n",
       "      <td>[0.0, 0.0, 0.0, 0.0, 0.0, 0.0, 0.0, 0.0, 0.0, ...</td>\n",
       "    </tr>\n",
       "  </tbody>\n",
       "</table>\n",
       "</div>"
      ]
     },
     "execution_count": 80,
     "metadata": {},
     "output_type": "execute_result"
    }
   ],
   "execution_count": 80
  },
  {
   "metadata": {
    "ExecuteTime": {
     "end_time": "2024-08-04T22:34:27.532238Z",
     "start_time": "2024-08-04T22:34:27.524595Z"
    }
   },
   "cell_type": "code",
   "source": "df.to_csv(f\"regrouped_{bm}_hist.csv\", index=False)",
   "id": "f153866c0d57fe56",
   "outputs": [],
   "execution_count": 81
  },
  {
   "metadata": {},
   "cell_type": "markdown",
   "source": "For TPCDS",
   "id": "48c518e1a1f16dcb"
  },
  {
   "metadata": {
    "ExecuteTime": {
     "end_time": "2024-08-04T16:40:36.052804Z",
     "start_time": "2024-08-04T16:40:36.007386Z"
    }
   },
   "cell_type": "code",
   "source": [
    "# Load data\n",
    "bm = \"tpcds\"\n",
    "df = pd.read_csv(f\"raw_{bm}_hist.csv\")\n",
    "# Regroup data\n",
    "df[\"hists\"] = df[[\"dtype\", \"bins\", \"distinct_count\"]].apply(lambda x: regroup_to_50(x[\"dtype\"], x[\"bins\"], x[\"distinct_count\"]), axis=1)\n",
    "df.to_csv(f\"regrouped_{bm}_hist.csv\", index=False)\n"
   ],
   "id": "12deff7f187aa1d0",
   "outputs": [],
   "execution_count": 73
  },
  {
   "metadata": {
    "ExecuteTime": {
     "end_time": "2024-08-04T18:23:00.388570Z",
     "start_time": "2024-08-04T18:23:00.385574Z"
    }
   },
   "cell_type": "code",
   "source": "df[df.column == \"d_date\"][\"bins\"].values[0]",
   "id": "e4c29ba74f66f35a",
   "outputs": [
    {
     "data": {
      "text/plain": [
       "'[1900-01-02, 1900-10-17, 1901-08-01, 1902-05-07, 1903-02-19, 1903-12-04, 1904-09-17, 1905-07-02, 1906-04-16, 1907-01-29, 1907-11-13, 1908-08-27, 1909-06-11, 1910-03-26, 1911-01-08, 1911-10-23, 1912-08-06, 1913-05-21, 1914-03-01, 1914-12-14, 1915-09-28, 1916-07-12, 1917-04-26, 1918-02-08, 1918-11-23, 1919-09-07, 1920-06-21, 1921-04-05, 1922-01-18, 1922-11-02, 1923-08-17, 1924-05-31, 1925-03-15, 1925-12-20, 1926-10-04, 1927-07-18, 1928-05-07, 1929-02-18, 1929-12-02, 1930-09-15, 1931-06-29, 1932-04-11, 1933-01-23, 1933-11-06, 1934-08-20, 1935-06-03, 1936-03-16, 1936-12-28, 1937-10-18, 1938-08-01, 1939-05-15, 1940-02-26, 1940-12-09, 1941-09-23, 1942-07-08, 1943-04-22, 1944-02-04, 1944-11-12, 1945-08-27, 1946-06-11, 1947-03-26, 1948-01-08, 1948-10-22, 1949-08-06, 1950-05-21, 1951-03-05, 1951-12-18, 1952-10-01, 1953-07-16, 1954-04-30, 1955-02-10, 1955-11-27, 1956-09-12, 1957-06-19, 1958-04-05, 1959-01-20, 1959-11-06, 1960-08-12, 1961-05-29, 1962-03-15, 1962-12-30, 1963-10-16, 1964-07-22, 1965-05-08, 1966-02-22, 1966-12-09, 1967-09-15, 1968-06-27, 1969-04-11, 1970-01-24, 1970-11-08, 1971-08-23, 1972-06-06, 1973-03-21, 1974-01-03, 1974-10-18, 1975-08-02, 1976-05-16, 1977-02-28, 1977-12-13, 1978-09-27, 1979-07-12, 1980-04-25, 1981-02-07, 1981-11-22, 1982-09-04, 1983-06-19, 1984-03-27, 1985-01-09, 1985-10-24, 1986-08-08, 1987-05-23, 1988-03-06, 1988-12-19, 1989-10-03, 1990-07-18, 1991-05-02, 1992-02-14, 1992-11-28, 1993-09-12, 1994-06-27, 1995-04-05, 1996-01-23, 1996-11-06, 1997-08-15, 1998-05-30, 1999-03-14, 1999-12-27, 2000-10-10, 2001-07-25, 2002-05-09, 2003-02-21, 2003-12-06, 2004-09-19, 2005-07-04, 2006-04-18, 2007-01-31, 2007-11-15, 2008-08-29, 2009-06-07, 2010-03-27, 2011-01-03, 2011-10-18, 2012-08-01, 2013-05-16, 2014-02-28, 2014-12-13, 2015-09-27, 2016-07-11, 2017-04-25, 2018-02-07, 2018-11-22, 2019-09-06, 2020-06-20, 2021-04-04, 2022-01-17, 2022-10-26, 2023-08-10, 2024-05-26, 2025-03-07, 2025-12-22, 2026-10-03, 2027-07-20, 2028-04-30, 2029-02-14, 2029-12-01, 2030-09-12, 2031-06-29, 2032-04-09, 2033-01-24, 2033-11-05, 2034-08-22, 2035-06-03, 2036-03-19, 2036-12-31, 2037-10-15, 2038-07-26, 2039-05-10, 2040-02-22, 2040-12-06, 2041-09-20, 2042-07-05, 2043-04-19, 2044-02-01, 2044-11-15, 2045-08-26, 2046-06-10, 2047-03-25, 2048-01-07, 2048-10-21, 2049-08-05, 2050-05-20, 2051-03-04, 2051-12-14, 2052-09-27, 2053-07-12, 2054-04-26, 2055-02-08, 2055-11-23, 2056-09-06, 2057-06-18, 2058-04-02, 2059-01-15, 2059-10-30, 2060-08-13, 2061-05-28, 2062-03-12, 2062-12-25, 2063-10-06, 2064-07-20, 2065-05-04, 2066-02-16, 2066-12-01, 2067-09-13, 2068-06-27, 2069-04-11, 2070-01-24, 2070-11-08, 2071-08-21, 2072-06-04, 2073-03-19, 2074-01-01, 2074-10-14, 2075-07-29, 2076-05-12, 2077-02-24, 2077-12-09, 2078-09-21, 2079-07-06, 2080-04-19, 2081-01-31, 2081-11-15, 2082-08-29, 2083-06-13, 2084-03-27, 2085-01-08, 2085-10-23, 2086-08-06, 2087-05-21, 2088-03-04, 2088-12-16, 2089-09-30, 2090-07-14, 2091-04-28, 2092-02-10, 2092-11-23, 2093-09-07, 2094-06-21, 2095-04-05, 2096-01-18, 2096-10-31, 2097-08-15, 2098-05-29, 2099-03-13, 2100-01-01]'"
      ]
     },
     "execution_count": 77,
     "metadata": {},
     "output_type": "execute_result"
    }
   ],
   "execution_count": 77
  },
  {
   "metadata": {},
   "cell_type": "code",
   "outputs": [],
   "execution_count": null,
   "source": "",
   "id": "b2cf7e8661987cb1"
  }
 ],
 "metadata": {
  "kernelspec": {
   "display_name": "Python 3",
   "language": "python",
   "name": "python3"
  },
  "language_info": {
   "codemirror_mode": {
    "name": "ipython",
    "version": 2
   },
   "file_extension": ".py",
   "mimetype": "text/x-python",
   "name": "python",
   "nbconvert_exporter": "python",
   "pygments_lexer": "ipython2",
   "version": "2.7.6"
  }
 },
 "nbformat": 4,
 "nbformat_minor": 5
}
